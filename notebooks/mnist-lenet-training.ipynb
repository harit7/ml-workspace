{
 "cells": [
  {
   "cell_type": "code",
   "execution_count": 1,
   "metadata": {},
   "outputs": [],
   "source": [
    "import sys \n",
    "sys.path.append('../')\n",
    "sys.path.append('../../')\n",
    "\n",
    "from utils.logging_utils import * \n",
    "from datasets import dataset_factory \n",
    "from datasets.dataset_utils import * \n",
    "from utils.common_utils import * \n",
    "from core.passive_learning import * \n",
    "\n",
    "# configuration\n",
    "config_file ='../configs/basic-ml/MNIST-Lenet/MNIST_lenet_pytorch.yaml'\n",
    "conf = load_yaml_config(config_file)\n",
    "\n",
    "\n",
    "# logger\n",
    "logger = get_logger(conf['log_file_path'],stdout_redirect=False,level=logging.DEBUG)"
   ]
  },
  {
   "cell_type": "code",
   "execution_count": 2,
   "metadata": {},
   "outputs": [],
   "source": [
    "\n",
    "set_seed(conf['random_seed'])\n",
    "# get data\n",
    "ds = dataset_factory.load_dataset(conf)\n",
    "ds.build_dataset()\n",
    "train_set,val_set_std = randomly_split_dataset(ds,1- conf['data_conf']['val_fraction'])\n",
    "# this val_set is the fixed val_set of big size. the algo will be given a subsample of it.\n",
    "\n",
    "test_ds = ds.get_test_datasets()\n",
    "\n",
    "pas_learn = PassiveLearning(conf, train_set, ds_val=val_set_std,ds_test=test_ds,logger=logger)\n",
    "out = pas_learn.run()\n",
    "    "
   ]
  },
  {
   "cell_type": "code",
   "execution_count": 3,
   "metadata": {},
   "outputs": [
    {
     "data": {
      "text/plain": [
       "0.012499999999999956"
      ]
     },
     "execution_count": 3,
     "metadata": {},
     "output_type": "execute_result"
    }
   ],
   "source": [
    "clf = pas_learn.cur_clf\n",
    "pas_learn.get_test_error(clf,test_ds,conf['inference_conf'])"
   ]
  },
  {
   "cell_type": "code",
   "execution_count": null,
   "metadata": {},
   "outputs": [],
   "source": []
  }
 ],
 "metadata": {
  "interpreter": {
   "hash": "aa3c3091de59a37e0724e567410c001e85b6f26a66d558d5b5b2c039fd2a360c"
  },
  "kernelspec": {
   "display_name": "Python 3.9.13 ('act-learn')",
   "language": "python",
   "name": "python3"
  },
  "language_info": {
   "codemirror_mode": {
    "name": "ipython",
    "version": 3
   },
   "file_extension": ".py",
   "mimetype": "text/x-python",
   "name": "python",
   "nbconvert_exporter": "python",
   "pygments_lexer": "ipython3",
   "version": "3.9.13"
  },
  "orig_nbformat": 4
 },
 "nbformat": 4,
 "nbformat_minor": 2
}
