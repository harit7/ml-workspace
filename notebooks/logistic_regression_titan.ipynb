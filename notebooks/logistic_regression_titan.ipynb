{
 "cells": [
  {
   "cell_type": "code",
   "execution_count": 1,
   "metadata": {},
   "outputs": [],
   "source": [
    "\n",
    "import sys \n",
    "sys.path.append('../')\n",
    "from utils.logging_utils import * \n",
    "from datasets import dataset_factory \n",
    "from datasets.dataset_utils import * \n",
    "\n",
    "from titan_ml.models.classifier import *"
   ]
  },
  {
   "cell_type": "code",
   "execution_count": 22,
   "metadata": {},
   "outputs": [],
   "source": [
    "conf = {}\n",
    "data_conf = {'dataset':'unif_unit_ball','n_samples':1500, 'dimension':2,'test_size':500,'random_state':0,'tensorize':True}\n",
    "model_conf = {'lib':'pytorch','model_name':'binary_logistic_regression','input_dimension':2,'num_classes':2,'fit_intercept':False}\n",
    "training_conf = {'optimizer':'lbfgs','loss_tolerance':1e-6,'max_epochs':100}\n",
    "inference_conf = {'batch_size':64}\n",
    "\n",
    "conf['data_conf'] = data_conf\n",
    "conf['model_conf'] = model_conf \n",
    "conf['training_conf'] = training_conf\n",
    "conf['inference_conf'] = inference_conf \n",
    "logger = get_logger('./logs/log.txt')"
   ]
  },
  {
   "cell_type": "code",
   "execution_count": 24,
   "metadata": {},
   "outputs": [],
   "source": [
    "clf = Classifier(conf['model_conf'],logger)\n",
    "\n",
    "unif_unit_ball_dataset = dataset_factory.load_dataset(conf)\n",
    "unif_unit_ball_dataset.build_dataset()\n",
    "\n",
    "if(conf['model_conf']['lib']=='pytorch'):\n",
    "    tensorize(unif_unit_ball_dataset)\n",
    "\n",
    "idcs = np.random.choice(range(1000),50,replace=False)\n",
    "unif_unit_ball_dataset_subset = take_subset_of_train_dataset(unif_unit_ball_dataset,idcs)"
   ]
  },
  {
   "cell_type": "code",
   "execution_count": 25,
   "metadata": {},
   "outputs": [
    {
     "data": {
      "text/plain": [
       "0.022462185621261597"
      ]
     },
     "execution_count": 25,
     "metadata": {},
     "output_type": "execute_result"
    }
   ],
   "source": [
    "clf.fit(unif_unit_ball_dataset_subset,conf['training_conf'])"
   ]
  },
  {
   "cell_type": "code",
   "execution_count": 26,
   "metadata": {},
   "outputs": [
    {
     "data": {
      "text/plain": [
       "0.834"
      ]
     },
     "execution_count": 26,
     "metadata": {},
     "output_type": "execute_result"
    }
   ],
   "source": [
    "from sklearn.metrics import accuracy_score\n",
    "#test_data=DatasetNumpy(X_test=X_test)\n",
    "Y_hat, P_hat = clf.predict(unif_unit_ball_dataset,conf['inference_conf'])\n",
    "accuracy_score(Y_hat,unif_unit_ball_dataset.Y_test)"
   ]
  },
  {
   "cell_type": "code",
   "execution_count": 27,
   "metadata": {},
   "outputs": [
    {
     "data": {
      "text/plain": [
       "tensor(0.8340)"
      ]
     },
     "execution_count": 27,
     "metadata": {},
     "output_type": "execute_result"
    }
   ],
   "source": [
    "Y_hat, P_hat = clf.predict(unif_unit_ball_dataset,conf['inference_conf'])\n",
    "def accuracy_score(Y,Y_hat):\n",
    "    return (Y.eq(Y_hat)).sum()/len(Y)\n",
    "accuracy_score(unif_unit_ball_dataset_subset.test_dataset.targets, Y_hat) \n"
   ]
  },
  {
   "cell_type": "code",
   "execution_count": null,
   "metadata": {},
   "outputs": [],
   "source": []
  }
 ],
 "metadata": {
  "interpreter": {
   "hash": "31f2aee4e71d21fbe5cf8b01ff0e069b9275f58929596ceb00d14d90e3e16cd6"
  },
  "kernelspec": {
   "display_name": "Python 3.8.9 64-bit",
   "language": "python",
   "name": "python3"
  },
  "language_info": {
   "codemirror_mode": {
    "name": "ipython",
    "version": 3
   },
   "file_extension": ".py",
   "mimetype": "text/x-python",
   "name": "python",
   "nbconvert_exporter": "python",
   "pygments_lexer": "ipython3",
   "version": "3.9.7"
  },
  "orig_nbformat": 4
 },
 "nbformat": 4,
 "nbformat_minor": 2
}
